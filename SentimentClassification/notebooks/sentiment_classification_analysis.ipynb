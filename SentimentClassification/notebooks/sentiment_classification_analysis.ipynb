{
 "cells": [
  {
   "cell_type": "markdown",
   "id": "43d7bd4e",
   "metadata": {},
   "source": [
    "# Sentiment Classification in Product Reviews"
   ]
  },
  {
   "cell_type": "markdown",
   "id": "b75fa5f3",
   "metadata": {},
   "source": [
    "## Introduction\n",
    "\n",
    "* **Objective:**\n",
    "\n",
    "To create an NLP model to automatically classify reviews as positive, neutral, or negative."
   ]
  },
  {
   "cell_type": "code",
   "execution_count": 74,
   "id": "fd8bfb9e",
   "metadata": {},
   "outputs": [],
   "source": [
    "import json\n",
    "import pandas as pd\n",
    "\n",
    "# data visualization\n",
    "import matplotlib.pyplot as plt\n",
    "import seaborn as sns\n",
    "\n",
    "# statistical tests\n",
    "from scipy.stats import ttest_ind\n",
    "from scipy.stats import chi2_contingency"
   ]
  },
  {
   "cell_type": "markdown",
   "id": "9d5587cb",
   "metadata": {},
   "source": [
    "## 1. Extract Data"
   ]
  },
  {
   "cell_type": "code",
   "execution_count": 24,
   "id": "02825732",
   "metadata": {},
   "outputs": [],
   "source": [
    "# reading the JSONL file\n",
    "df = pd.read_json('../data/All_Beauty.jsonl', lines=True)\n",
    "\n",
    "# Show the first few rows\n",
    "df.head()\n",
    "\n",
    "# create a copy of the original dataframe\n",
    "df_original = df.copy()\n"
   ]
  },
  {
   "cell_type": "code",
   "execution_count": 25,
   "id": "72253ef4",
   "metadata": {},
   "outputs": [
    {
     "data": {
      "text/plain": [
       "Index(['rating', 'title', 'text', 'images', 'asin', 'parent_asin', 'user_id',\n",
       "       'timestamp', 'helpful_vote', 'verified_purchase'],\n",
       "      dtype='object')"
      ]
     },
     "execution_count": 25,
     "metadata": {},
     "output_type": "execute_result"
    }
   ],
   "source": [
    "df.columns"
   ]
  },
  {
   "cell_type": "markdown",
   "id": "88aa113a",
   "metadata": {},
   "source": [
    "## 2. EDA"
   ]
  },
  {
   "cell_type": "code",
   "execution_count": 26,
   "id": "f8797a4b",
   "metadata": {},
   "outputs": [
    {
     "name": "stdout",
     "output_type": "stream",
     "text": [
      "<class 'pandas.core.frame.DataFrame'>\n",
      "RangeIndex: 701528 entries, 0 to 701527\n",
      "Data columns (total 10 columns):\n",
      " #   Column             Non-Null Count   Dtype         \n",
      "---  ------             --------------   -----         \n",
      " 0   rating             701528 non-null  int64         \n",
      " 1   title              701528 non-null  object        \n",
      " 2   text               701528 non-null  object        \n",
      " 3   images             701528 non-null  object        \n",
      " 4   asin               701528 non-null  object        \n",
      " 5   parent_asin        701528 non-null  object        \n",
      " 6   user_id            701528 non-null  object        \n",
      " 7   timestamp          701528 non-null  datetime64[ns]\n",
      " 8   helpful_vote       701528 non-null  int64         \n",
      " 9   verified_purchase  701528 non-null  bool          \n",
      "dtypes: bool(1), datetime64[ns](1), int64(2), object(6)\n",
      "memory usage: 48.8+ MB\n"
     ]
    }
   ],
   "source": [
    "df.info()"
   ]
  },
  {
   "cell_type": "markdown",
   "id": "8244c339",
   "metadata": {},
   "source": [
    "* **📌 Data Dictionary — Amazon All_Beauty Dataset**\n",
    "\n",
    "| **Column**          | **Type**        | **Description**                                                                      |\n",
    "| ------------------- | --------------- | ------------------------------------------------------------------------------------ |\n",
    "| `rating`            | int64           | Product rating given by the user, ranging from **1** (worst) to **5** (best).        |\n",
    "| `title`             | object          | Title or short summary of the review.                                                |\n",
    "| `text`              | object          | Full review text written by the user.                                                |\n",
    "| `images`            | object          | List of image URLs uploaded by the reviewer, if available.                           |\n",
    "| `asin`              | object          | Amazon Standard Identification Number — unique product ID.                           |\n",
    "| `parent_asin`       | object          | Parent product ID when multiple variations exist (e.g., color, size).                |\n",
    "| `user_id`           | object          | Unique identifier of the user who posted the review.                                 |\n",
    "| `timestamp`         | datetime64\\[ns] | Date and time when the review was posted.                                            |\n",
    "| `helpful_vote`      | int64           | Number of users who marked the review as helpful.                                    |\n",
    "| `verified_purchase` | bool            | Indicates whether the review comes from a verified purchase (**True** or **False**). |\n"
   ]
  },
  {
   "cell_type": "code",
   "execution_count": 27,
   "id": "9493a694",
   "metadata": {},
   "outputs": [
    {
     "name": "stdout",
     "output_type": "stream",
     "text": [
      "There are 701528 rows and 10 columns in the dataset.\n"
     ]
    }
   ],
   "source": [
    "# dataset shape\n",
    "print(f\"There are {df.shape[0]} rows and {df.shape[1]} columns in the dataset.\")"
   ]
  },
  {
   "cell_type": "markdown",
   "id": "695d23ba",
   "metadata": {},
   "source": [
    "### 2.1. Missing values and Duplicated"
   ]
  },
  {
   "cell_type": "code",
   "execution_count": 28,
   "id": "7e781681",
   "metadata": {},
   "outputs": [
    {
     "data": {
      "application/vnd.microsoft.datawrangler.viewer.v0+json": {
       "columns": [
        {
         "name": "index",
         "rawType": "object",
         "type": "string"
        },
        {
         "name": "0",
         "rawType": "int64",
         "type": "integer"
        }
       ],
       "ref": "b0847342-f71e-4674-b223-e0798939bffa",
       "rows": [
        [
         "rating",
         "0"
        ],
        [
         "title",
         "0"
        ],
        [
         "text",
         "0"
        ],
        [
         "images",
         "0"
        ],
        [
         "asin",
         "0"
        ],
        [
         "parent_asin",
         "0"
        ],
        [
         "user_id",
         "0"
        ],
        [
         "timestamp",
         "0"
        ],
        [
         "helpful_vote",
         "0"
        ],
        [
         "verified_purchase",
         "0"
        ]
       ],
       "shape": {
        "columns": 1,
        "rows": 10
       }
      },
      "text/plain": [
       "rating               0\n",
       "title                0\n",
       "text                 0\n",
       "images               0\n",
       "asin                 0\n",
       "parent_asin          0\n",
       "user_id              0\n",
       "timestamp            0\n",
       "helpful_vote         0\n",
       "verified_purchase    0\n",
       "dtype: int64"
      ]
     },
     "execution_count": 28,
     "metadata": {},
     "output_type": "execute_result"
    }
   ],
   "source": [
    "# verifying missing values\n",
    "df.isnull().sum()"
   ]
  },
  {
   "cell_type": "markdown",
   "id": "24782d40",
   "metadata": {},
   "source": [
    "There are no null values in the dataframe.\n",
    "\n",
    "In the treatment of duplicates in product review datasets, it is important to differentiate the types of duplicity to maintain data quality. \n",
    "\n",
    "Firstly, there are complete duplicates, where all columns are identical; these should always be removed, as they represent redundant records that do not add any information to the model. \n",
    "\n",
    "Next, there are `text` duplicates, when the same review content appears multiple times, even if other information (such as user or product) is different; these cases should also be eliminated, as they can introduce bias and noise in training. \n",
    "\n",
    "Finally, there are duplicates by user and product, where the same user evaluated the same item more than once; in this case, it is common to keep only the most recent or the most relevant review, ensuring that each user contributes uniquely to each product. \n",
    "\n",
    "This approach is especially important in NLP datasets, such as product reviews, because columns with lists or objects (like images) cannot be directly compared by Pandas; therefore, we focus on relevant columns for identifying duplicates, such as text, user_id, and asin. This way, we ensure that the sentiment classification model is trained with clean, non-redundant, and representative data, improving its generalization ability.\n",
    "\n",
    "So instead of using the original `image` column, we will create an auxiliary column to identify if the user did an upload of any image or not.\n"
   ]
  },
  {
   "cell_type": "code",
   "execution_count": 29,
   "id": "f355fb39",
   "metadata": {},
   "outputs": [],
   "source": [
    "# creating an auxiliary column to identify if the user did an upload of any image or not\n",
    "df['has_image'] = df['images'].apply(lambda x: 1 if len(x) > 0 else 0)"
   ]
  },
  {
   "cell_type": "code",
   "execution_count": 30,
   "id": "2eb55b4b",
   "metadata": {},
   "outputs": [],
   "source": [
    "# drop the original images column\n",
    "df = df.drop(columns=['images'])"
   ]
  },
  {
   "cell_type": "code",
   "execution_count": 33,
   "id": "c21e7edd",
   "metadata": {},
   "outputs": [
    {
     "data": {
      "text/plain": [
       "np.int64(7275)"
      ]
     },
     "execution_count": 33,
     "metadata": {},
     "output_type": "execute_result"
    }
   ],
   "source": [
    "df.duplicated().sum()\n"
   ]
  },
  {
   "cell_type": "code",
   "execution_count": 34,
   "id": "30f81026",
   "metadata": {},
   "outputs": [],
   "source": [
    "# eliminating complete duplicates\n",
    "df = df.drop_duplicates()"
   ]
  },
  {
   "cell_type": "code",
   "execution_count": 36,
   "id": "bb614664",
   "metadata": {},
   "outputs": [
    {
     "name": "stdout",
     "output_type": "stream",
     "text": [
      "There are 50624 duplicate rows based on the 'text' column.\n"
     ]
    }
   ],
   "source": [
    "# verifying duplicates by 'text' column\n",
    "print(f\"There are {df['text'].duplicated().sum()} duplicate rows based on the 'text' column.\")\n"
   ]
  },
  {
   "cell_type": "code",
   "execution_count": 37,
   "id": "5a0db8fa",
   "metadata": {},
   "outputs": [],
   "source": [
    "# drop the duplicates by 'text' column\n",
    "df = df.drop_duplicates(subset=['text'])"
   ]
  },
  {
   "cell_type": "code",
   "execution_count": 38,
   "id": "2aca6c4d",
   "metadata": {},
   "outputs": [
    {
     "name": "stdout",
     "output_type": "stream",
     "text": [
      "There are 0 duplicate rows based on the 'user_id' and 'asin' columns.\n"
     ]
    }
   ],
   "source": [
    "# verifying duplicates by 'user_id' and 'asin' columns\n",
    "print(f\"There are {df.duplicated(subset=['user_id', 'asin']).sum()} duplicate rows based on the 'user_id' and 'asin' columns.\")\n"
   ]
  },
  {
   "cell_type": "code",
   "execution_count": 39,
   "id": "cc0838be",
   "metadata": {},
   "outputs": [
    {
     "name": "stdout",
     "output_type": "stream",
     "text": [
      "After removing duplicates, there are 643629 rows and 10 columns in the dataset.\n"
     ]
    }
   ],
   "source": [
    "# Verifying the final shape of the dataset\n",
    "print(f\"After removing duplicates, there are {df.shape[0]} rows and {df.shape[1]} columns in the dataset.\")"
   ]
  },
  {
   "cell_type": "code",
   "execution_count": 59,
   "id": "12508840",
   "metadata": {},
   "outputs": [
    {
     "data": {
      "application/vnd.microsoft.datawrangler.viewer.v0+json": {
       "columns": [
        {
         "name": "index",
         "rawType": "object",
         "type": "string"
        },
        {
         "name": "rating",
         "rawType": "float64",
         "type": "float"
        },
        {
         "name": "timestamp",
         "rawType": "object",
         "type": "unknown"
        },
        {
         "name": "helpful_vote",
         "rawType": "float64",
         "type": "float"
        },
        {
         "name": "has_image",
         "rawType": "float64",
         "type": "float"
        }
       ],
       "ref": "7a944a67-578f-4173-b7ba-bff284b4ade1",
       "rows": [
        [
         "count",
         "643629.0",
         "643629",
         "643629.0",
         "643629.0"
        ],
        [
         "mean",
         "3.91686981164615",
         "2019-04-12 16:36:31.720172032",
         "0.9776190942297504",
         "0.0890761603346027"
        ],
        [
         "min",
         "1.0",
         "2000-11-01 04:24:18",
         "0.0",
         "0.0"
        ],
        [
         "25%",
         "3.0",
         "2017-08-08 14:38:05.240000",
         "0.0",
         "0.0"
        ],
        [
         "50%",
         "5.0",
         "2019-11-02 04:37:11.966000128",
         "0.0",
         "0.0"
        ],
        [
         "75%",
         "5.0",
         "2021-03-08 00:52:02.455000064",
         "1.0",
         "0.0"
        ],
        [
         "max",
         "5.0",
         "2023-09-09 00:39:36.666000",
         "646.0",
         "1.0"
        ],
        [
         "std",
         "1.511490663152482",
         null,
         "5.669782478034461",
         "0.2848538644002211"
        ]
       ],
       "shape": {
        "columns": 4,
        "rows": 8
       }
      },
      "text/html": [
       "<div>\n",
       "<style scoped>\n",
       "    .dataframe tbody tr th:only-of-type {\n",
       "        vertical-align: middle;\n",
       "    }\n",
       "\n",
       "    .dataframe tbody tr th {\n",
       "        vertical-align: top;\n",
       "    }\n",
       "\n",
       "    .dataframe thead th {\n",
       "        text-align: right;\n",
       "    }\n",
       "</style>\n",
       "<table border=\"1\" class=\"dataframe\">\n",
       "  <thead>\n",
       "    <tr style=\"text-align: right;\">\n",
       "      <th></th>\n",
       "      <th>rating</th>\n",
       "      <th>timestamp</th>\n",
       "      <th>helpful_vote</th>\n",
       "      <th>has_image</th>\n",
       "    </tr>\n",
       "  </thead>\n",
       "  <tbody>\n",
       "    <tr>\n",
       "      <th>count</th>\n",
       "      <td>643629.000000</td>\n",
       "      <td>643629</td>\n",
       "      <td>643629.000000</td>\n",
       "      <td>643629.000000</td>\n",
       "    </tr>\n",
       "    <tr>\n",
       "      <th>mean</th>\n",
       "      <td>3.916870</td>\n",
       "      <td>2019-04-12 16:36:31.720172032</td>\n",
       "      <td>0.977619</td>\n",
       "      <td>0.089076</td>\n",
       "    </tr>\n",
       "    <tr>\n",
       "      <th>min</th>\n",
       "      <td>1.000000</td>\n",
       "      <td>2000-11-01 04:24:18</td>\n",
       "      <td>0.000000</td>\n",
       "      <td>0.000000</td>\n",
       "    </tr>\n",
       "    <tr>\n",
       "      <th>25%</th>\n",
       "      <td>3.000000</td>\n",
       "      <td>2017-08-08 14:38:05.240000</td>\n",
       "      <td>0.000000</td>\n",
       "      <td>0.000000</td>\n",
       "    </tr>\n",
       "    <tr>\n",
       "      <th>50%</th>\n",
       "      <td>5.000000</td>\n",
       "      <td>2019-11-02 04:37:11.966000128</td>\n",
       "      <td>0.000000</td>\n",
       "      <td>0.000000</td>\n",
       "    </tr>\n",
       "    <tr>\n",
       "      <th>75%</th>\n",
       "      <td>5.000000</td>\n",
       "      <td>2021-03-08 00:52:02.455000064</td>\n",
       "      <td>1.000000</td>\n",
       "      <td>0.000000</td>\n",
       "    </tr>\n",
       "    <tr>\n",
       "      <th>max</th>\n",
       "      <td>5.000000</td>\n",
       "      <td>2023-09-09 00:39:36.666000</td>\n",
       "      <td>646.000000</td>\n",
       "      <td>1.000000</td>\n",
       "    </tr>\n",
       "    <tr>\n",
       "      <th>std</th>\n",
       "      <td>1.511491</td>\n",
       "      <td>NaN</td>\n",
       "      <td>5.669782</td>\n",
       "      <td>0.284854</td>\n",
       "    </tr>\n",
       "  </tbody>\n",
       "</table>\n",
       "</div>"
      ],
      "text/plain": [
       "              rating                      timestamp   helpful_vote  \\\n",
       "count  643629.000000                         643629  643629.000000   \n",
       "mean        3.916870  2019-04-12 16:36:31.720172032       0.977619   \n",
       "min         1.000000            2000-11-01 04:24:18       0.000000   \n",
       "25%         3.000000     2017-08-08 14:38:05.240000       0.000000   \n",
       "50%         5.000000  2019-11-02 04:37:11.966000128       0.000000   \n",
       "75%         5.000000  2021-03-08 00:52:02.455000064       1.000000   \n",
       "max         5.000000     2023-09-09 00:39:36.666000     646.000000   \n",
       "std         1.511491                            NaN       5.669782   \n",
       "\n",
       "           has_image  \n",
       "count  643629.000000  \n",
       "mean        0.089076  \n",
       "min         0.000000  \n",
       "25%         0.000000  \n",
       "50%         0.000000  \n",
       "75%         0.000000  \n",
       "max         1.000000  \n",
       "std         0.284854  "
      ]
     },
     "execution_count": 59,
     "metadata": {},
     "output_type": "execute_result"
    }
   ],
   "source": [
    "# analysis statistics of numerical columns\n",
    "df.describe()"
   ]
  },
  {
   "cell_type": "markdown",
   "id": "58caecbc",
   "metadata": {},
   "source": [
    "### 2.2. Univariate Analysis"
   ]
  },
  {
   "cell_type": "markdown",
   "id": "94b16205",
   "metadata": {},
   "source": [
    "* **Rating Distribution**"
   ]
  },
  {
   "cell_type": "code",
   "execution_count": 40,
   "id": "f3eac593",
   "metadata": {},
   "outputs": [
    {
     "data": {
      "application/vnd.microsoft.datawrangler.viewer.v0+json": {
       "columns": [
        {
         "name": "rating",
         "rawType": "int64",
         "type": "integer"
        },
        {
         "name": "count",
         "rawType": "int64",
         "type": "integer"
        }
       ],
       "ref": "3c4c9bf8-cafd-43d7-bbb1-48492ada5e76",
       "rows": [
        [
         "1",
         "97535"
        ],
        [
         "2",
         "41634"
        ],
        [
         "3",
         "54082"
        ],
        [
         "4",
         "73928"
        ],
        [
         "5",
         "376450"
        ]
       ],
       "shape": {
        "columns": 1,
        "rows": 5
       }
      },
      "text/plain": [
       "rating\n",
       "1     97535\n",
       "2     41634\n",
       "3     54082\n",
       "4     73928\n",
       "5    376450\n",
       "Name: count, dtype: int64"
      ]
     },
     "execution_count": 40,
     "metadata": {},
     "output_type": "execute_result"
    }
   ],
   "source": [
    "# Distribution if rating\n",
    "df['rating'].value_counts().sort_index()"
   ]
  },
  {
   "cell_type": "code",
   "execution_count": 47,
   "id": "cb8554ed",
   "metadata": {},
   "outputs": [
    {
     "data": {
      "image/png": "[encoded data removed]",
      "text/plain": [
       "<Figure size 640x480 with 1 Axes>"
      ]
     },
     "metadata": {},
     "output_type": "display_data"
    }
   ],
   "source": [
    "sns.countplot(x='rating', \n",
    "              data=df, \n",
    "              palette='viridis', \n",
    "              hue='rating')\n",
    "plt.title(\"Distribution of Ratings\")\n",
    "#remove legend\n",
    "plt.legend().remove()\n",
    "plt.show()\n"
   ]
  },
  {
   "cell_type": "markdown",
   "id": "56b40239",
   "metadata": {},
   "source": [
    "We can see from the analysis above that the classes are unbalanced. We have many more evaluations with a `rating` of 5 than lower ones. We will need to use balancing techniques when we create the models."
   ]
  },
  {
   "cell_type": "code",
   "execution_count": 48,
   "id": "02b7a089",
   "metadata": {},
   "outputs": [
    {
     "data": {
      "application/vnd.microsoft.datawrangler.viewer.v0+json": {
       "columns": [
        {
         "name": "sentiment",
         "rawType": "object",
         "type": "string"
        },
        {
         "name": "count",
         "rawType": "int64",
         "type": "integer"
        }
       ],
       "ref": "1e3c2637-2dee-4025-b691-989a85793ce8",
       "rows": [
        [
         "positive",
         "450378"
        ],
        [
         "negative",
         "139169"
        ],
        [
         "neutral",
         "54082"
        ]
       ],
       "shape": {
        "columns": 1,
        "rows": 3
       }
      },
      "text/plain": [
       "sentiment\n",
       "positive    450378\n",
       "negative    139169\n",
       "neutral      54082\n",
       "Name: count, dtype: int64"
      ]
     },
     "execution_count": 48,
     "metadata": {},
     "output_type": "execute_result"
    }
   ],
   "source": [
    "# creating column 'sentiment' based on the 'rating' column\n",
    "def categorize_sentiment(rating):\n",
    "    if rating <= 2:\n",
    "        return 'negative'\n",
    "    elif rating == 3:\n",
    "        return 'neutral'\n",
    "    else:\n",
    "        return 'positive'\n",
    "df['sentiment'] = df['rating'].apply(categorize_sentiment)\n",
    "df['sentiment'].value_counts()"
   ]
  },
  {
   "cell_type": "markdown",
   "id": "8ea2fe9d",
   "metadata": {},
   "source": [
    "## 3. Bivariate Analysis"
   ]
  },
  {
   "cell_type": "markdown",
   "id": "274c13ed",
   "metadata": {},
   "source": [
    "Let's do a practical analysis to understand if the auxiliary column has_image really has relevance for sentiment classification. The idea is to check if there is a statistical relationship or clear trend between having images and the sentiment of the review."
   ]
  },
  {
   "cell_type": "code",
   "execution_count": 52,
   "id": "333ab304",
   "metadata": {},
   "outputs": [
    {
     "data": {
      "application/vnd.microsoft.datawrangler.viewer.v0+json": {
       "columns": [
        {
         "name": "has_image",
         "rawType": "int64",
         "type": "integer"
        },
        {
         "name": "count",
         "rawType": "int64",
         "type": "integer"
        }
       ],
       "ref": "af0a336e-4a35-41c1-8e9e-d62d4d05d6d8",
       "rows": [
        [
         "0",
         "586297"
        ],
        [
         "1",
         "57332"
        ]
       ],
       "shape": {
        "columns": 1,
        "rows": 2
       }
      },
      "text/plain": [
       "has_image\n",
       "0    586297\n",
       "1     57332\n",
       "Name: count, dtype: int64"
      ]
     },
     "execution_count": 52,
     "metadata": {},
     "output_type": "execute_result"
    }
   ],
   "source": [
    "df.has_image.value_counts()"
   ]
  },
  {
   "cell_type": "code",
   "execution_count": 53,
   "id": "9702fe44",
   "metadata": {},
   "outputs": [
    {
     "data": {
      "application/vnd.microsoft.datawrangler.viewer.v0+json": {
       "columns": [
        {
         "name": "sentiment",
         "rawType": "object",
         "type": "string"
        },
        {
         "name": "0",
         "rawType": "float64",
         "type": "float"
        },
        {
         "name": "1",
         "rawType": "float64",
         "type": "float"
        }
       ],
       "ref": "f9a2040e-3a85-476f-a8cd-6bdc9d22f3c1",
       "rows": [
        [
         "negative",
         "0.9208516264397962",
         "0.07914837356020378"
        ],
        [
         "neutral",
         "0.928978218261159",
         "0.07102178173884102"
        ],
        [
         "positive",
         "0.9056881108757533",
         "0.09431188912424675"
        ]
       ],
       "shape": {
        "columns": 2,
        "rows": 3
       }
      },
      "text/html": [
       "<div>\n",
       "<style scoped>\n",
       "    .dataframe tbody tr th:only-of-type {\n",
       "        vertical-align: middle;\n",
       "    }\n",
       "\n",
       "    .dataframe tbody tr th {\n",
       "        vertical-align: top;\n",
       "    }\n",
       "\n",
       "    .dataframe thead th {\n",
       "        text-align: right;\n",
       "    }\n",
       "</style>\n",
       "<table border=\"1\" class=\"dataframe\">\n",
       "  <thead>\n",
       "    <tr style=\"text-align: right;\">\n",
       "      <th>has_image</th>\n",
       "      <th>0</th>\n",
       "      <th>1</th>\n",
       "    </tr>\n",
       "    <tr>\n",
       "      <th>sentiment</th>\n",
       "      <th></th>\n",
       "      <th></th>\n",
       "    </tr>\n",
       "  </thead>\n",
       "  <tbody>\n",
       "    <tr>\n",
       "      <th>negative</th>\n",
       "      <td>0.920852</td>\n",
       "      <td>0.079148</td>\n",
       "    </tr>\n",
       "    <tr>\n",
       "      <th>neutral</th>\n",
       "      <td>0.928978</td>\n",
       "      <td>0.071022</td>\n",
       "    </tr>\n",
       "    <tr>\n",
       "      <th>positive</th>\n",
       "      <td>0.905688</td>\n",
       "      <td>0.094312</td>\n",
       "    </tr>\n",
       "  </tbody>\n",
       "</table>\n",
       "</div>"
      ],
      "text/plain": [
       "has_image         0         1\n",
       "sentiment                    \n",
       "negative   0.920852  0.079148\n",
       "neutral    0.928978  0.071022\n",
       "positive   0.905688  0.094312"
      ]
     },
     "execution_count": 53,
     "metadata": {},
     "output_type": "execute_result"
    }
   ],
   "source": [
    "# checking the relationship between having images and sentiment (proportion of reviews with images by sentiment)\n",
    "\n",
    "df.groupby('sentiment')['has_image'].value_counts(normalize=True).unstack()\n"
   ]
  },
  {
   "cell_type": "code",
   "execution_count": 54,
   "id": "005e05f7",
   "metadata": {},
   "outputs": [
    {
     "data": {
      "image/png": "[encoded data removed]",
      "text/plain": [
       "<Figure size 640x480 with 1 Axes>"
      ]
     },
     "metadata": {},
     "output_type": "display_data"
    }
   ],
   "source": [
    "# visualization of the relationship between having images and sentiment\n",
    "sns.countplot(x='sentiment', hue='has_image', data=df)\n",
    "plt.title(\"Reviews with Images by Sentiment\")\n",
    "plt.show()\n"
   ]
  },
  {
   "cell_type": "markdown",
   "id": "7a7d9b5d",
   "metadata": {},
   "source": [
    "To identify whether the column is significant or not, we must perform a hypothesis test. Visually, it is not clear if there is an impact on sentiment."
   ]
  },
  {
   "cell_type": "markdown",
   "id": "f2ee5509",
   "metadata": {},
   "source": [
    "* Distribution of Verified Purchases by Sentiment"
   ]
  },
  {
   "cell_type": "code",
   "execution_count": 68,
   "id": "2dd03003",
   "metadata": {},
   "outputs": [
    {
     "data": {
      "application/vnd.microsoft.datawrangler.viewer.v0+json": {
       "columns": [
        {
         "name": "verified_purchase_flag",
         "rawType": "int64",
         "type": "integer"
        },
        {
         "name": "count",
         "rawType": "int64",
         "type": "integer"
        }
       ],
       "ref": "436aa8a6-861f-4558-9bf4-6796f8c98b6e",
       "rows": [
        [
         "1",
         "579964"
        ],
        [
         "0",
         "63665"
        ]
       ],
       "shape": {
        "columns": 1,
        "rows": 2
       }
      },
      "text/plain": [
       "verified_purchase_flag\n",
       "1    579964\n",
       "0     63665\n",
       "Name: count, dtype: int64"
      ]
     },
     "execution_count": 68,
     "metadata": {},
     "output_type": "execute_result"
    }
   ],
   "source": [
    "# Converter em binário (0 = não verificado, 1 = verificado)\n",
    "df['verified_purchase_flag'] = df['verified_purchase'].astype(int)\n",
    "df['verified_purchase_flag'].value_counts()"
   ]
  },
  {
   "cell_type": "code",
   "execution_count": 69,
   "id": "deddedcb",
   "metadata": {},
   "outputs": [
    {
     "data": {
      "image/png": "[encoded data removed]",
      "text/plain": [
       "<Figure size 640x480 with 1 Axes>"
      ]
     },
     "metadata": {},
     "output_type": "display_data"
    }
   ],
   "source": [
    "sns.countplot(x='sentiment', hue='verified_purchase', data=df)\n",
    "plt.title(\"Distribution of Verified Purchases by Sentiment\")\n",
    "plt.show()"
   ]
  },
  {
   "cell_type": "code",
   "execution_count": 70,
   "id": "d79125bb",
   "metadata": {},
   "outputs": [
    {
     "data": {
      "application/vnd.microsoft.datawrangler.viewer.v0+json": {
       "columns": [
        {
         "name": "verified_purchase",
         "rawType": "bool",
         "type": "boolean"
        },
        {
         "name": "rating",
         "rawType": "float64",
         "type": "float"
        }
       ],
       "ref": "3049a001-f2b1-41a2-a39d-40a97c02278c",
       "rows": [
        [
         "False",
         "4.0615408780334565"
        ],
        [
         "True",
         "3.9009886820561275"
        ]
       ],
       "shape": {
        "columns": 1,
        "rows": 2
       }
      },
      "text/plain": [
       "verified_purchase\n",
       "False    4.061541\n",
       "True     3.900989\n",
       "Name: rating, dtype: float64"
      ]
     },
     "execution_count": 70,
     "metadata": {},
     "output_type": "execute_result"
    }
   ],
   "source": [
    "df.groupby('verified_purchase')['rating'].mean()\n"
   ]
  },
  {
   "cell_type": "markdown",
   "id": "220c4170",
   "metadata": {},
   "source": [
    "* **Average rating for unverified reviews (`False`)**: 4.06 \n",
    "* **Average rating for verified reviews (`True`)**: 3.90 \n",
    "--- \n",
    "\n",
    "**Interpretation:** \n",
    "\n",
    "1. **Verified reviews have, on average, a slightly lower rating**: \n",
    "    * This may indicate that users who actually purchase are slightly more critical. \n",
    "\n",
    "    * Unverified reviews tend to be a bit more positive, perhaps because some evaluations come from people who did not buy or who want to inflate the rating.\n",
    "\n",
    " 2. **The difference is small (~0.16 points)**: \n",
    " \n",
    "     * It's not huge, but it can still have some value for the model. \n",
    " \n",
    "    *  The model can learn subtle patterns, especially if combined with other features (text, helpful_vote, user_avg_rating). \n",
    " \n",
    " 3. **Conclusion for the feature**: \n",
    " \n",
    "     * **It's worth keeping `verified_purchase_flag` as a binary feature** in the model. \n",
    " "
   ]
  },
  {
   "cell_type": "markdown",
   "id": "3e27e3ad",
   "metadata": {},
   "source": [
    "### 3.2 Hypothesis Test:"
   ]
  },
  {
   "cell_type": "markdown",
   "id": "859ec0d1",
   "metadata": {},
   "source": [
    "#### 3.2.1: Is there an association between reviews with images and the sentiment of the evaluation?"
   ]
  },
  {
   "cell_type": "markdown",
   "id": "9a7c1215",
   "metadata": {},
   "source": [
    "**Hypothesis**\n",
    "\n",
    "- Null hypothesis (H₀): There is no significant relationship between has_image and sentiment → the presence of images does not influence sentiment.\n",
    "\n",
    "- Alternative hypothesis (H₁): There is a significant relationship between has_image and sentiment → the presence of images influences sentiment.\n",
    "\n",
    "**Decision criterion**\n",
    "\n",
    "- If p-value < 0.05 → we reject H₀ → has_image is potentially relevant.\n",
    "\n",
    "- If p-value ≥ 0.05 → we do not reject H₀ → has_image probably does not contribute."
   ]
  },
  {
   "cell_type": "code",
   "execution_count": 57,
   "id": "a3236ba7",
   "metadata": {},
   "outputs": [
    {
     "name": "stdout",
     "output_type": "stream",
     "text": [
      "Chi2 Statistic: 538.46\n",
      "Degrees of Freedom: 2\n",
      "P-value: 1.189159118371913e-117\n",
      "\n",
      "Results: We reject the null hypothesis. There is evidence of an association between having images and the sentiment of the review.\n"
     ]
    }
   ],
   "source": [
    "contingency_table = pd.crosstab(df['sentiment'], df['has_image'])\n",
    "\n",
    "# chi-square test\n",
    "chi2, p, dof, expected = chi2_contingency(contingency_table)\n",
    "print(f\"Chi2 Statistic: {chi2:.2f}\")\n",
    "print(f\"Degrees of Freedom: {dof}\")\n",
    "print(f\"P-value: {p}\")\n",
    "\n",
    "# Interpretation\n",
    "if p < 0.05:\n",
    "    print(\"\\nResults: We reject the null hypothesis. There is evidence of an association between having images and the sentiment of the review.\")\n",
    "else:\n",
    "    print(\"\\nResults: We fail to reject the null hypothesis. There is not enough evidence of an association between having images and the sentiment of the review.\")"
   ]
  },
  {
   "cell_type": "code",
   "execution_count": 58,
   "id": "700109a2",
   "metadata": {},
   "outputs": [
    {
     "name": "stdout",
     "output_type": "stream",
     "text": [
      "Cramér's V: 0.029\n",
      "Strength of association: Negligible association\n"
     ]
    }
   ],
   "source": [
    "import numpy as np\n",
    "\n",
    "# 7️⃣ Cálculo de Cramér's V (força da associação)\n",
    "n = contingency_table.sum().sum()\n",
    "cramers_v = np.sqrt(chi2 / (n * (min(contingency_table.shape)-1)))\n",
    "print(f\"Cramér's V: {cramers_v:.3f}\")\n",
    "\n",
    "# 8️⃣ Interpretação de Cramér's V\n",
    "if cramers_v < 0.1:\n",
    "    strength = \"Negligible association\"\n",
    "elif cramers_v < 0.3:\n",
    "    strength = \"Weak association\"\n",
    "elif cramers_v < 0.5:\n",
    "    strength = \"Moderate association\"\n",
    "else:\n",
    "    strength = \"Strong association\"\n",
    "\n",
    "print(f\"Strength of association: {strength}\")"
   ]
  },
  {
   "cell_type": "markdown",
   "id": "bc3377c8",
   "metadata": {},
   "source": [
    "After all the teste we can conclude:\n",
    "\n",
    "* The **p-value < 0.05** indicates that there is a statistically significant association between `has_image` and sentiment.\n",
    "\n",
    "* However, **Cramér's V = 0.029** shows that the **strength of this association is negligible**.\n",
    "\n",
    "* In practice, even though it is significant, the column **does not add relevant information** to the sentiment classification model.\n",
    "\n",
    "**Conclusion:** `has_image` probably **does not need to be included** as a feature in the model."
   ]
  },
  {
   "cell_type": "markdown",
   "id": "bc0beef4",
   "metadata": {},
   "source": [
    "#### 3.2.2: Is the difference in average rating between verified and non-verified reviews statistically significant?"
   ]
  },
  {
   "cell_type": "code",
   "execution_count": null,
   "id": "a77fad17",
   "metadata": {},
   "outputs": [
    {
     "name": "stdout",
     "output_type": "stream",
     "text": [
      "p-value: 7.440442757017917e-143\n",
      "We reject the null hypothesis. There is a significant difference in average ratings between verified and non-verified purchases.\n"
     ]
    }
   ],
   "source": [
    "verified_ratings = df[df['verified_purchase']==True]['rating']\n",
    "non_verified_ratings = df[df['verified_purchase']==False]['rating']\n",
    "\n",
    "t_stat, p_val = ttest_ind(verified_ratings, non_verified_ratings)\n",
    "print(\"p-value:\", p_val)\n",
    "if p_val < 0.05:\n",
    "    print(\"We reject the null hypothesis. There is a significant difference in average ratings between verified and non-verified purchases.\")\n",
    "else:\n",
    "    print(\"We fail to reject the null hypothesis. There is no significant difference in average ratings between verified and non-verified purchases.\")  "
   ]
  }
 ],
 "metadata": {
  "kernelspec": {
   "display_name": "SentimentClassification",
   "language": "python",
   "name": "python3"
  },
  "language_info": {
   "codemirror_mode": {
    "name": "ipython",
    "version": 3
   },
   "file_extension": ".py",
   "mimetype": "text/x-python",
   "name": "python",
   "nbconvert_exporter": "python",
   "pygments_lexer": "ipython3",
   "version": "3.12.5"
  }
 },
 "nbformat": 4,
 "nbformat_minor": 5
}
